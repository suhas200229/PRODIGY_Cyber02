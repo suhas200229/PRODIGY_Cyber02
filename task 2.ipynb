{
 "cells": [
  {
   "cell_type": "code",
   "execution_count": 1,
   "id": "d46d696e",
   "metadata": {},
   "outputs": [],
   "source": [
    "from PIL import Image\n",
    "\n",
    "def encrypt_image(image_path, key):\n",
    "    \"\"\"\n",
    "    Encrypts an image using XOR operation with a given key.\n",
    "    \"\"\"\n",
    "    img = Image.open(image_path)\n",
    "    width, height = img.size\n",
    "\n",
    "    # Convert the key to bytes\n",
    "    key_bytes = bytes(key, 'utf-8')\n",
    "    key_length = len(key_bytes)\n",
    "\n",
    "    # Get the pixel data of the image\n",
    "    pixels = img.load()\n",
    "\n",
    "    # Encrypt each pixel\n",
    "    for y in range(height):\n",
    "        for x in range(width):\n",
    "            pixel = pixels[x, y]\n",
    "            r, g, b = pixel\n",
    "            # Apply XOR operation with corresponding key byte\n",
    "            r ^= key_bytes[(x + y) % key_length]\n",
    "            g ^= key_bytes[(x + y + 1) % key_length]\n",
    "            b ^= key_bytes[(x + y + 2) % key_length]\n",
    "            pixels[x, y] = (r, g, b)\n",
    "\n",
    "    # Save the encrypted image\n",
    "    encrypted_image_path = image_path.split('.')[0] + '_encrypted.png'\n",
    "    img.save(encrypted_image_path)\n",
    "    print(\"Image encrypted successfully!\")\n",
    "    return encrypted_image_path\n",
    "\n",
    "def decrypt_image(encrypted_image_path, key):\n",
    "    \"\"\"\n",
    "    Decrypts an encrypted image using XOR operation with a given key.\n",
    "    \"\"\"\n",
    "    img = Image.open(encrypted_image_path)\n",
    "    width, height = img.size\n",
    "\n",
    "    # Convert the key to bytes\n",
    "    key_bytes = bytes(key, 'utf-8')\n",
    "    key_length = len(key_bytes)\n",
    "\n",
    "    # Get the pixel data of the image\n",
    "    pixels = img.load()\n",
    "\n",
    "    # Decrypt each pixel\n",
    "    for y in range(height):\n",
    "        for x in range(width):\n",
    "            pixel = pixels[x, y]\n",
    "            r, g, b = pixel\n",
    "            # Apply XOR operation with corresponding key byte\n",
    "            r ^= key_bytes[(x + y) % key_length]\n",
    "            g ^= key_bytes[(x + y + 1) % key_length]\n",
    "            b ^= key_bytes[(x + y + 2) % key_length]\n",
    "            pixels[x, y] = (r, g, b)\n",
    "\n",
    "    # Save the decrypted image\n",
    "    decrypted_image_path = encrypted_image_path.split('_encrypted')[0] + '_decrypted.png'\n",
    "    img.save(decrypted_image_path)\n",
    "    print(\"Image decrypted successfully!\")\n",
    "    return decrypted_image_path\n",
    "\n",
    "image_path = 'IMG.jpg'\n",
    "key = 'mysecretkey'"
   ]
  },
  {
   "cell_type": "code",
   "execution_count": 2,
   "id": "2c2dcc1b",
   "metadata": {},
   "outputs": [
    {
     "name": "stdout",
     "output_type": "stream",
     "text": [
      "Image encrypted successfully!\n"
     ]
    }
   ],
   "source": [
    "encrypted_image_path = encrypt_image(image_path, key)"
   ]
  },
  {
   "cell_type": "code",
   "execution_count": 3,
   "id": "409cb4c9",
   "metadata": {},
   "outputs": [
    {
     "name": "stdout",
     "output_type": "stream",
     "text": [
      "Image decrypted successfully!\n"
     ]
    }
   ],
   "source": [
    "\n",
    "decrypted_image_path = decrypt_image(encrypted_image_path, key)"
   ]
  },
  {
   "cell_type": "code",
   "execution_count": null,
   "id": "185f1565",
   "metadata": {},
   "outputs": [],
   "source": []
  }
 ],
 "metadata": {
  "kernelspec": {
   "display_name": "Python 3 (ipykernel)",
   "language": "python",
   "name": "python3"
  },
  "language_info": {
   "codemirror_mode": {
    "name": "ipython",
    "version": 3
   },
   "file_extension": ".py",
   "mimetype": "text/x-python",
   "name": "python",
   "nbconvert_exporter": "python",
   "pygments_lexer": "ipython3",
   "version": "3.9.7"
  }
 },
 "nbformat": 4,
 "nbformat_minor": 5
}
